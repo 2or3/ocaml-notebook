{
 "cells": [
  {
   "cell_type": "code",
   "execution_count": 1,
   "id": "f1148d9f",
   "metadata": {},
   "outputs": [
    {
     "data": {
      "text/plain": [
       "val x : int list = [2; 6; 10; 14; 18]\n"
      ]
     },
     "execution_count": 1,
     "metadata": {},
     "output_type": "execute_result"
    }
   ],
   "source": [
    "let x = List.map (fun x -> x * 2) [1; 3; 5; 7; 9]"
   ]
  },
  {
   "cell_type": "code",
   "execution_count": 3,
   "id": "a4d7e3ae",
   "metadata": {},
   "outputs": [
    {
     "ename": "error",
     "evalue": "runtime_error",
     "output_type": "error",
     "traceback": [
      "\u001b[31mUnknown directive `require'.\n\u001b[0m"
     ]
    }
   ],
   "source": [
    "#require "
   ]
  },
  {
   "cell_type": "code",
   "execution_count": null,
   "id": "0f933b5f",
   "metadata": {},
   "outputs": [],
   "source": []
  }
 ],
 "metadata": {
  "kernelspec": {
   "display_name": "OCaml default",
   "language": "OCaml",
   "name": "ocaml-jupyter"
  },
  "language_info": {
   "codemirror_mode": "text/x-ocaml",
   "file_extension": ".ml",
   "mimetype": "text/x-ocaml",
   "name": "OCaml",
   "nbconverter_exporter": null,
   "pygments_lexer": "OCaml",
   "version": "4.12.1"
  }
 },
 "nbformat": 4,
 "nbformat_minor": 5
}
