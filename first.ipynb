{
 "cells": [
  {
   "cell_type": "code",
   "execution_count": 1,
   "id": "f1148d9f",
   "metadata": {},
   "outputs": [
    {
     "data": {
      "text/plain": [
       "val x : int list = [2; 6; 10; 14; 18]\n"
      ]
     },
     "execution_count": 1,
     "metadata": {},
     "output_type": "execute_result"
    }
   ],
   "source": [
    "let x = List.map (fun x -> x * 2) [1; 3; 5; 7; 9]"
   ]
  },
  {
   "cell_type": "code",
   "execution_count": 2,
   "id": "a4d7e3ae",
   "metadata": {},
   "outputs": [
    {
     "name": "stdout",
     "output_type": "stream",
     "text": [
      "Cannot find file jupyter.notebook.\n"
     ]
    }
   ],
   "source": [
    "#use \"jupyter.notebook\";;"
   ]
  },
  {
   "cell_type": "code",
   "execution_count": 5,
   "id": "d21e85a9",
   "metadata": {},
   "outputs": [
    {
     "ename": "error",
     "evalue": "compile_error",
     "output_type": "error",
     "traceback": [
      "File \"[5]\", line 1, characters 37-59:\n1 | Jupyter_notebook_display \"text/html\" \"<b>Hello, World!</b>\"\n                                         ^^^^^^^^^^^^^^^^^^^^^^\nError: Syntax error\n"
     ]
    }
   ],
   "source": [
    "Jupyter_notebook_display \"text/html\" \"<b>Hello, World!</b>\""
   ]
  },
  {
   "cell_type": "code",
   "execution_count": 11,
   "id": "aaa23733",
   "metadata": {},
   "outputs": [
    {
     "ename": "error",
     "evalue": "compile_error",
     "output_type": "error",
     "traceback": [
      "File \"[11]\", line 1, characters 0-16:\n1 | Jupyter.notebook.display_file ~base64:true \"image/png\" \"datasets/lenna.png\"\n    ^^^^^^^^^^^^^^^^\nError: Unbound module Jupyter\n"
     ]
    }
   ],
   "source": [
    "Jupyter.notebook.display_file ~base64:true \"image/png\" \"datasets/lenna.png\""
   ]
  },
  {
   "cell_type": "code",
   "execution_count": null,
   "id": "9d287859",
   "metadata": {},
   "outputs": [],
   "source": []
  }
 ],
 "metadata": {
  "kernelspec": {
   "display_name": "OCaml default",
   "language": "OCaml",
   "name": "ocaml-jupyter"
  },
  "language_info": {
   "codemirror_mode": "text/x-ocaml",
   "file_extension": ".ml",
   "mimetype": "text/x-ocaml",
   "name": "OCaml",
   "nbconverter_exporter": null,
   "pygments_lexer": "OCaml",
   "version": "4.12.1"
  }
 },
 "nbformat": 4,
 "nbformat_minor": 5
}
